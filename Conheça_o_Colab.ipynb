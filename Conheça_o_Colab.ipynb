{
  "cells": [
    {
      "cell_type": "markdown",
      "metadata": {
        "id": "view-in-github",
        "colab_type": "text"
      },
      "source": [
        "<a href=\"https://colab.research.google.com/github/dvzin0801/calculadora/blob/main/Conhe%C3%A7a_o_Colab.ipynb\" target=\"_parent\"><img src=\"https://colab.research.google.com/assets/colab-badge.svg\" alt=\"Open In Colab\"/></a>"
      ]
    },
    {
      "cell_type": "code",
      "source": [
        "#criar uma lista de números\n",
        "numeros = [1, 2, 3, 4, 5]\n",
        "# usar a função len() para calcular o comprimento da lista\n",
        "comprimento = len(numeros)\n",
        "#imprime o comprimento da lista\n",
        "print(\"O comprimento da lista é:\", comprimento)"
      ],
      "metadata": {
        "id": "N_BQ9XhaFz96"
      },
      "execution_count": null,
      "outputs": []
    },
    {
      "cell_type": "markdown",
      "source": [
        "# Nova seção"
      ],
      "metadata": {
        "id": "Pf3nf6JlFxFj"
      }
    },
    {
      "cell_type": "code",
      "source": [
        "# Definindo uma função soma\n",
        "def soma (a , b):\n",
        "  resultado = a + b\n",
        "  return resultado\n",
        "\n"
      ],
      "metadata": {
        "id": "OXVEu2EfM4C-"
      },
      "execution_count": null,
      "outputs": []
    },
    {
      "cell_type": "markdown",
      "source": [],
      "metadata": {
        "id": "Jyhnps12O4B8"
      }
    }
  ],
  "metadata": {
    "colab": {
      "name": "Conheça o Colab",
      "provenance": [],
      "include_colab_link": true
    },
    "kernelspec": {
      "display_name": "Python 3",
      "name": "python3"
    }
  },
  "nbformat": 4,
  "nbformat_minor": 0
}